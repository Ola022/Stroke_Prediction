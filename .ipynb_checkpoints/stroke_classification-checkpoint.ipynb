{
 "cells": [
  {
   "cell_type": "markdown",
   "id": "0ac64e38",
   "metadata": {},
   "source": [
    "# STROKE CLASSIFICATION"
   ]
  },
  {
   "cell_type": "markdown",
   "id": "3a516d02",
   "metadata": {},
   "source": [
    "## 1.0 IMPORT LIBRARIES"
   ]
  },
  {
   "cell_type": "code",
   "execution_count": 1,
   "id": "646023e8",
   "metadata": {},
   "outputs": [],
   "source": [
    "import numpy as np\n",
    "import pandas as pd \n",
    "import matplotlib.pyplot as plt\n",
    "import seaborn as sns\n",
    "\n",
    "%matplotlib inline"
   ]
  },
  {
   "cell_type": "markdown",
   "id": "fd2f4c01",
   "metadata": {},
   "source": [
    "##  2.0 DATA EXTRACTION,TRANSFORM AND LOAD (ETL) AND EXPLORATORY"
   ]
  },
  {
   "cell_type": "markdown",
   "id": "09c888a9",
   "metadata": {},
   "source": [
    "   + Data extracted manually form Kaggle \n",
    "   + Transform and Load by Pandas(row and columns) "
   ]
  },
  {
   "cell_type": "code",
   "execution_count": 2,
   "id": "a27ad8c8",
   "metadata": {},
   "outputs": [
    {
     "data": {
      "text/html": [
       "<div>\n",
       "<style scoped>\n",
       "    .dataframe tbody tr th:only-of-type {\n",
       "        vertical-align: middle;\n",
       "    }\n",
       "\n",
       "    .dataframe tbody tr th {\n",
       "        vertical-align: top;\n",
       "    }\n",
       "\n",
       "    .dataframe thead th {\n",
       "        text-align: right;\n",
       "    }\n",
       "</style>\n",
       "<table border=\"1\" class=\"dataframe\">\n",
       "  <thead>\n",
       "    <tr style=\"text-align: right;\">\n",
       "      <th></th>\n",
       "      <th>gender</th>\n",
       "      <th>age</th>\n",
       "      <th>hypertension</th>\n",
       "      <th>heart_disease</th>\n",
       "      <th>ever_married</th>\n",
       "      <th>work_type</th>\n",
       "      <th>Residence_type</th>\n",
       "      <th>avg_glucose_level</th>\n",
       "      <th>bmi</th>\n",
       "      <th>smoking_status</th>\n",
       "      <th>stroke</th>\n",
       "    </tr>\n",
       "  </thead>\n",
       "  <tbody>\n",
       "    <tr>\n",
       "      <th>0</th>\n",
       "      <td>Male</td>\n",
       "      <td>58.0</td>\n",
       "      <td>1</td>\n",
       "      <td>0</td>\n",
       "      <td>Yes</td>\n",
       "      <td>Private</td>\n",
       "      <td>Urban</td>\n",
       "      <td>87.96</td>\n",
       "      <td>39.2</td>\n",
       "      <td>never smoked</td>\n",
       "      <td>0</td>\n",
       "    </tr>\n",
       "    <tr>\n",
       "      <th>1</th>\n",
       "      <td>Female</td>\n",
       "      <td>70.0</td>\n",
       "      <td>0</td>\n",
       "      <td>0</td>\n",
       "      <td>Yes</td>\n",
       "      <td>Private</td>\n",
       "      <td>Rural</td>\n",
       "      <td>69.04</td>\n",
       "      <td>35.9</td>\n",
       "      <td>formerly smoked</td>\n",
       "      <td>0</td>\n",
       "    </tr>\n",
       "    <tr>\n",
       "      <th>2</th>\n",
       "      <td>Female</td>\n",
       "      <td>52.0</td>\n",
       "      <td>0</td>\n",
       "      <td>0</td>\n",
       "      <td>Yes</td>\n",
       "      <td>Private</td>\n",
       "      <td>Urban</td>\n",
       "      <td>77.59</td>\n",
       "      <td>17.7</td>\n",
       "      <td>formerly smoked</td>\n",
       "      <td>0</td>\n",
       "    </tr>\n",
       "    <tr>\n",
       "      <th>3</th>\n",
       "      <td>Female</td>\n",
       "      <td>75.0</td>\n",
       "      <td>0</td>\n",
       "      <td>1</td>\n",
       "      <td>Yes</td>\n",
       "      <td>Self-employed</td>\n",
       "      <td>Rural</td>\n",
       "      <td>243.53</td>\n",
       "      <td>27.0</td>\n",
       "      <td>never smoked</td>\n",
       "      <td>0</td>\n",
       "    </tr>\n",
       "    <tr>\n",
       "      <th>4</th>\n",
       "      <td>Female</td>\n",
       "      <td>32.0</td>\n",
       "      <td>0</td>\n",
       "      <td>0</td>\n",
       "      <td>Yes</td>\n",
       "      <td>Private</td>\n",
       "      <td>Rural</td>\n",
       "      <td>77.67</td>\n",
       "      <td>32.3</td>\n",
       "      <td>smokes</td>\n",
       "      <td>0</td>\n",
       "    </tr>\n",
       "    <tr>\n",
       "      <th>...</th>\n",
       "      <td>...</td>\n",
       "      <td>...</td>\n",
       "      <td>...</td>\n",
       "      <td>...</td>\n",
       "      <td>...</td>\n",
       "      <td>...</td>\n",
       "      <td>...</td>\n",
       "      <td>...</td>\n",
       "      <td>...</td>\n",
       "      <td>...</td>\n",
       "      <td>...</td>\n",
       "    </tr>\n",
       "    <tr>\n",
       "      <th>29060</th>\n",
       "      <td>Female</td>\n",
       "      <td>10.0</td>\n",
       "      <td>0</td>\n",
       "      <td>0</td>\n",
       "      <td>No</td>\n",
       "      <td>children</td>\n",
       "      <td>Urban</td>\n",
       "      <td>58.64</td>\n",
       "      <td>20.4</td>\n",
       "      <td>never smoked</td>\n",
       "      <td>0</td>\n",
       "    </tr>\n",
       "    <tr>\n",
       "      <th>29061</th>\n",
       "      <td>Female</td>\n",
       "      <td>56.0</td>\n",
       "      <td>0</td>\n",
       "      <td>0</td>\n",
       "      <td>Yes</td>\n",
       "      <td>Govt_job</td>\n",
       "      <td>Urban</td>\n",
       "      <td>213.61</td>\n",
       "      <td>55.4</td>\n",
       "      <td>formerly smoked</td>\n",
       "      <td>0</td>\n",
       "    </tr>\n",
       "    <tr>\n",
       "      <th>29062</th>\n",
       "      <td>Female</td>\n",
       "      <td>82.0</td>\n",
       "      <td>1</td>\n",
       "      <td>0</td>\n",
       "      <td>Yes</td>\n",
       "      <td>Private</td>\n",
       "      <td>Urban</td>\n",
       "      <td>91.94</td>\n",
       "      <td>28.9</td>\n",
       "      <td>formerly smoked</td>\n",
       "      <td>0</td>\n",
       "    </tr>\n",
       "    <tr>\n",
       "      <th>29063</th>\n",
       "      <td>Male</td>\n",
       "      <td>40.0</td>\n",
       "      <td>0</td>\n",
       "      <td>0</td>\n",
       "      <td>Yes</td>\n",
       "      <td>Private</td>\n",
       "      <td>Urban</td>\n",
       "      <td>99.16</td>\n",
       "      <td>33.2</td>\n",
       "      <td>never smoked</td>\n",
       "      <td>0</td>\n",
       "    </tr>\n",
       "    <tr>\n",
       "      <th>29064</th>\n",
       "      <td>Female</td>\n",
       "      <td>82.0</td>\n",
       "      <td>0</td>\n",
       "      <td>0</td>\n",
       "      <td>Yes</td>\n",
       "      <td>Private</td>\n",
       "      <td>Urban</td>\n",
       "      <td>79.48</td>\n",
       "      <td>20.6</td>\n",
       "      <td>never smoked</td>\n",
       "      <td>0</td>\n",
       "    </tr>\n",
       "  </tbody>\n",
       "</table>\n",
       "<p>29065 rows × 11 columns</p>\n",
       "</div>"
      ],
      "text/plain": [
       "       gender   age  hypertension  heart_disease ever_married      work_type  \\\n",
       "0        Male  58.0             1              0          Yes        Private   \n",
       "1      Female  70.0             0              0          Yes        Private   \n",
       "2      Female  52.0             0              0          Yes        Private   \n",
       "3      Female  75.0             0              1          Yes  Self-employed   \n",
       "4      Female  32.0             0              0          Yes        Private   \n",
       "...       ...   ...           ...            ...          ...            ...   \n",
       "29060  Female  10.0             0              0           No       children   \n",
       "29061  Female  56.0             0              0          Yes       Govt_job   \n",
       "29062  Female  82.0             1              0          Yes        Private   \n",
       "29063    Male  40.0             0              0          Yes        Private   \n",
       "29064  Female  82.0             0              0          Yes        Private   \n",
       "\n",
       "      Residence_type  avg_glucose_level   bmi   smoking_status  stroke  \n",
       "0              Urban              87.96  39.2     never smoked       0  \n",
       "1              Rural              69.04  35.9  formerly smoked       0  \n",
       "2              Urban              77.59  17.7  formerly smoked       0  \n",
       "3              Rural             243.53  27.0     never smoked       0  \n",
       "4              Rural              77.67  32.3           smokes       0  \n",
       "...              ...                ...   ...              ...     ...  \n",
       "29060          Urban              58.64  20.4     never smoked       0  \n",
       "29061          Urban             213.61  55.4  formerly smoked       0  \n",
       "29062          Urban              91.94  28.9  formerly smoked       0  \n",
       "29063          Urban              99.16  33.2     never smoked       0  \n",
       "29064          Urban              79.48  20.6     never smoked       0  \n",
       "\n",
       "[29065 rows x 11 columns]"
      ]
     },
     "execution_count": 2,
     "metadata": {},
     "output_type": "execute_result"
    }
   ],
   "source": [
    "df = pd.read_csv('stroke_data.csv')\n",
    "df"
   ]
  },
  {
   "cell_type": "markdown",
   "id": "a6661f7b",
   "metadata": {},
   "source": [
    "## 3.0  EXPLORATORY DATA ANALYSIS"
   ]
  },
  {
   "cell_type": "code",
   "execution_count": 3,
   "id": "33a85cf4",
   "metadata": {},
   "outputs": [
    {
     "name": "stdout",
     "output_type": "stream",
     "text": [
      "<class 'pandas.core.frame.DataFrame'>\n",
      "RangeIndex: 29065 entries, 0 to 29064\n",
      "Data columns (total 11 columns):\n",
      " #   Column             Non-Null Count  Dtype  \n",
      "---  ------             --------------  -----  \n",
      " 0   gender             29065 non-null  object \n",
      " 1   age                29065 non-null  float64\n",
      " 2   hypertension       29065 non-null  int64  \n",
      " 3   heart_disease      29065 non-null  int64  \n",
      " 4   ever_married       29065 non-null  object \n",
      " 5   work_type          29065 non-null  object \n",
      " 6   Residence_type     29065 non-null  object \n",
      " 7   avg_glucose_level  29065 non-null  float64\n",
      " 8   bmi                29065 non-null  float64\n",
      " 9   smoking_status     29065 non-null  object \n",
      " 10  stroke             29065 non-null  int64  \n",
      "dtypes: float64(3), int64(3), object(5)\n",
      "memory usage: 2.4+ MB\n"
     ]
    }
   ],
   "source": [
    "df.info()"
   ]
  },
  {
   "cell_type": "code",
   "execution_count": 4,
   "id": "e088c880",
   "metadata": {},
   "outputs": [
    {
     "data": {
      "text/plain": [
       "<AxesSubplot:>"
      ]
     },
     "execution_count": 4,
     "metadata": {},
     "output_type": "execute_result"
    },
    {
     "data": {
      "image/png": "[encoded data removed]",
      "text/plain": [
       "<Figure size 864x360 with 2 Axes>"
      ]
     },
     "metadata": {
      "needs_background": "light"
     },
     "output_type": "display_data"
    }
   ],
   "source": [
    "plt.figure(figsize=(12,5))\n",
    "sns.heatmap(df.isnull(), yticklabels=False, cbar =True, cmap='viridis')"
   ]
  },
  {
   "cell_type": "code",
   "execution_count": 5,
   "id": "a2e784ba",
   "metadata": {},
   "outputs": [
    {
     "data": {
      "text/plain": [
       "gender               False\n",
       "age                  False\n",
       "hypertension         False\n",
       "heart_disease        False\n",
       "ever_married         False\n",
       "work_type            False\n",
       "Residence_type       False\n",
       "avg_glucose_level    False\n",
       "bmi                  False\n",
       "smoking_status       False\n",
       "stroke               False\n",
       "dtype: bool"
      ]
     },
     "execution_count": 5,
     "metadata": {},
     "output_type": "execute_result"
    }
   ],
   "source": [
    "df.isnull().any()"
   ]
  },
  {
   "cell_type": "code",
   "execution_count": 6,
   "id": "44547667",
   "metadata": {},
   "outputs": [
    {
     "data": {
      "text/plain": [
       "<AxesSubplot:xlabel='smoking_status', ylabel='count'>"
      ]
     },
     "execution_count": 6,
     "metadata": {},
     "output_type": "execute_result"
    },
    {
     "data": {
      "image/png": "[encoded data removed]",
      "text/plain": [
       "<Figure size 432x288 with 1 Axes>"
      ]
     },
     "metadata": {
      "needs_background": "light"
     },
     "output_type": "display_data"
    }
   ],
   "source": [
    "sns.countplot(x= 'smoking_status', hue ='stroke', data=df )"
   ]
  },
  {
   "cell_type": "code",
   "execution_count": 7,
   "id": "8b8a127e",
   "metadata": {},
   "outputs": [
    {
     "data": {
      "text/plain": [
       "<AxesSubplot:xlabel='work_type', ylabel='count'>"
      ]
     },
     "execution_count": 7,
     "metadata": {},
     "output_type": "execute_result"
    },
    {
     "data": {
      "image/png": "[encoded data removed]",
      "text/plain": [
       "<Figure size 432x288 with 1 Axes>"
      ]
     },
     "metadata": {
      "needs_background": "light"
     },
     "output_type": "display_data"
    }
   ],
   "source": [
    "sns.countplot(x= 'work_type', hue ='stroke', data=df )"
   ]
  },
  {
   "cell_type": "code",
   "execution_count": 8,
   "id": "11ec7f70",
   "metadata": {},
   "outputs": [
    {
     "data": {
      "text/plain": [
       "<AxesSubplot:xlabel='stroke', ylabel='avg_glucose_level'>"
      ]
     },
     "execution_count": 8,
     "metadata": {},
     "output_type": "execute_result"
    },
    {
     "data": {
      "image/png": "[encoded data removed]",
      "text/plain": [
       "<Figure size 864x360 with 1 Axes>"
      ]
     },
     "metadata": {
      "needs_background": "light"
     },
     "output_type": "display_data"
    }
   ],
   "source": [
    "# plt.plot(,, color = 'red')\n",
    "plt.figure(figsize=(12,5))\n",
    "\n",
    "sns.barplot(x=df['stroke'], y=df['avg_glucose_level'], hue=df['gender'] )"
   ]
  },
  {
   "cell_type": "code",
   "execution_count": 9,
   "id": "137cd8b8",
   "metadata": {},
   "outputs": [
    {
     "data": {
      "text/plain": [
       "<AxesSubplot:xlabel='stroke', ylabel='count'>"
      ]
     },
     "execution_count": 9,
     "metadata": {},
     "output_type": "execute_result"
    },
    {
     "data": {
      "image/png": "[encoded data removed]",
      "text/plain": [
       "<Figure size 432x288 with 1 Axes>"
      ]
     },
     "metadata": {
      "needs_background": "light"
     },
     "output_type": "display_data"
    }
   ],
   "source": [
    "sns.countplot(x= 'stroke',data=df )"
   ]
  },
  {
   "cell_type": "code",
   "execution_count": 10,
   "id": "3d194ada",
   "metadata": {},
   "outputs": [
    {
     "name": "stdout",
     "output_type": "stream",
     "text": [
      "<class 'pandas.core.frame.DataFrame'>\n",
      "RangeIndex: 29065 entries, 0 to 29064\n",
      "Data columns (total 11 columns):\n",
      " #   Column             Non-Null Count  Dtype  \n",
      "---  ------             --------------  -----  \n",
      " 0   gender             29065 non-null  object \n",
      " 1   age                29065 non-null  float64\n",
      " 2   hypertension       29065 non-null  int64  \n",
      " 3   heart_disease      29065 non-null  int64  \n",
      " 4   ever_married       29065 non-null  object \n",
      " 5   work_type          29065 non-null  object \n",
      " 6   Residence_type     29065 non-null  object \n",
      " 7   avg_glucose_level  29065 non-null  float64\n",
      " 8   bmi                29065 non-null  float64\n",
      " 9   smoking_status     29065 non-null  object \n",
      " 10  stroke             29065 non-null  int64  \n",
      "dtypes: float64(3), int64(3), object(5)\n",
      "memory usage: 2.4+ MB\n"
     ]
    }
   ],
   "source": [
    "df.info()"
   ]
  },
  {
   "cell_type": "markdown",
   "id": "8387ae36",
   "metadata": {},
   "source": [
    "### TREAT THE  Imbalance Dataset\n",
    "+ count_class_0, count_class_1 = df.stroke.value_counts()\n",
    "+ count_class_0, count_class_1 "
   ]
  },
  {
   "cell_type": "markdown",
   "id": "a0107f98",
   "metadata": {},
   "source": [
    "#### TO USE UNDER SAMPLE\n",
    "+ df_class_0_under = df_class_0.sample(count_class_1)\n",
    "+ df_test_under = pd.concat([df_class_0_under, df_class_1], axis=0)\n",
    "+ df_test_under\n",
    "+df_test_under.stroke.value_counts()"
   ]
  },
  {
   "cell_type": "markdown",
   "id": "6cda8481",
   "metadata": {},
   "source": [
    "#### TO USE OVERSAMPLE\n",
    "+count_class_0, count_class_1 \n",
    "`# Using 10% of your `\n",
    "+ n_10_per = int(count_class_0 * 0.30)\n",
    "+ print( '30% of OVERSAMPLE DATA ====>  ', n_10_per)\n",
    "\n",
    "+ df_class_0_over = df_class_0.sample(n_10_per)\n",
    "+ df_class_1_over = df_class_1.sample(n_10_per, replace=True)\n",
    "\n",
    "+ df_sample_overr = pd.concat([df_class_0_over, df_class_1_over], axis=0)\n",
    "+ df_sample_overr"
   ]
  },
  {
   "cell_type": "markdown",
   "id": "a87f52c2",
   "metadata": {},
   "source": [
    "`Imbalance dataset late treated using SMOTE library`"
   ]
  },
  {
   "cell_type": "markdown",
   "id": "8fa62188",
   "metadata": {},
   "source": [
    "## 4.0 TRANSFORMATION "
   ]
  },
  {
   "cell_type": "code",
   "execution_count": 11,
   "id": "e6b84d0e",
   "metadata": {},
   "outputs": [],
   "source": [
    "# Import Principal Component Analysis\n",
    "#from sklearn.decomposition import PCA"
   ]
  },
  {
   "cell_type": "code",
   "execution_count": 13,
   "id": "4dd93d87",
   "metadata": {},
   "outputs": [
    {
     "name": "stdout",
     "output_type": "stream",
     "text": [
      "gender\n",
      "ever_married\n",
      "work_type\n",
      "Residence_type\n",
      "smoking_status\n"
     ]
    }
   ],
   "source": [
    "# Print all object types column\n",
    "for col in df:\n",
    "    if df[col].dtypes == 'object':\n",
    "        print(col)"
   ]
  },
  {
   "cell_type": "code",
   "execution_count": 15,
   "id": "4cad2358",
   "metadata": {},
   "outputs": [
    {
     "data": {
      "text/html": [
       "<div>\n",
       "<style scoped>\n",
       "    .dataframe tbody tr th:only-of-type {\n",
       "        vertical-align: middle;\n",
       "    }\n",
       "\n",
       "    .dataframe tbody tr th {\n",
       "        vertical-align: top;\n",
       "    }\n",
       "\n",
       "    .dataframe thead th {\n",
       "        text-align: right;\n",
       "    }\n",
       "</style>\n",
       "<table border=\"1\" class=\"dataframe\">\n",
       "  <thead>\n",
       "    <tr style=\"text-align: right;\">\n",
       "      <th></th>\n",
       "      <th>Male</th>\n",
       "      <th>Yes</th>\n",
       "      <th>Never_worked</th>\n",
       "      <th>Private</th>\n",
       "      <th>Self-employed</th>\n",
       "      <th>children</th>\n",
       "      <th>Urban</th>\n",
       "      <th>never smoked</th>\n",
       "      <th>smokes</th>\n",
       "    </tr>\n",
       "  </thead>\n",
       "  <tbody>\n",
       "    <tr>\n",
       "      <th>0</th>\n",
       "      <td>1</td>\n",
       "      <td>1</td>\n",
       "      <td>0</td>\n",
       "      <td>1</td>\n",
       "      <td>0</td>\n",
       "      <td>0</td>\n",
       "      <td>1</td>\n",
       "      <td>1</td>\n",
       "      <td>0</td>\n",
       "    </tr>\n",
       "    <tr>\n",
       "      <th>1</th>\n",
       "      <td>0</td>\n",
       "      <td>1</td>\n",
       "      <td>0</td>\n",
       "      <td>1</td>\n",
       "      <td>0</td>\n",
       "      <td>0</td>\n",
       "      <td>0</td>\n",
       "      <td>0</td>\n",
       "      <td>0</td>\n",
       "    </tr>\n",
       "    <tr>\n",
       "      <th>2</th>\n",
       "      <td>0</td>\n",
       "      <td>1</td>\n",
       "      <td>0</td>\n",
       "      <td>1</td>\n",
       "      <td>0</td>\n",
       "      <td>0</td>\n",
       "      <td>1</td>\n",
       "      <td>0</td>\n",
       "      <td>0</td>\n",
       "    </tr>\n",
       "    <tr>\n",
       "      <th>3</th>\n",
       "      <td>0</td>\n",
       "      <td>1</td>\n",
       "      <td>0</td>\n",
       "      <td>0</td>\n",
       "      <td>1</td>\n",
       "      <td>0</td>\n",
       "      <td>0</td>\n",
       "      <td>1</td>\n",
       "      <td>0</td>\n",
       "    </tr>\n",
       "    <tr>\n",
       "      <th>4</th>\n",
       "      <td>0</td>\n",
       "      <td>1</td>\n",
       "      <td>0</td>\n",
       "      <td>1</td>\n",
       "      <td>0</td>\n",
       "      <td>0</td>\n",
       "      <td>0</td>\n",
       "      <td>0</td>\n",
       "      <td>1</td>\n",
       "    </tr>\n",
       "    <tr>\n",
       "      <th>...</th>\n",
       "      <td>...</td>\n",
       "      <td>...</td>\n",
       "      <td>...</td>\n",
       "      <td>...</td>\n",
       "      <td>...</td>\n",
       "      <td>...</td>\n",
       "      <td>...</td>\n",
       "      <td>...</td>\n",
       "      <td>...</td>\n",
       "    </tr>\n",
       "    <tr>\n",
       "      <th>29060</th>\n",
       "      <td>0</td>\n",
       "      <td>0</td>\n",
       "      <td>0</td>\n",
       "      <td>0</td>\n",
       "      <td>0</td>\n",
       "      <td>1</td>\n",
       "      <td>1</td>\n",
       "      <td>1</td>\n",
       "      <td>0</td>\n",
       "    </tr>\n",
       "    <tr>\n",
       "      <th>29061</th>\n",
       "      <td>0</td>\n",
       "      <td>1</td>\n",
       "      <td>0</td>\n",
       "      <td>0</td>\n",
       "      <td>0</td>\n",
       "      <td>0</td>\n",
       "      <td>1</td>\n",
       "      <td>0</td>\n",
       "      <td>0</td>\n",
       "    </tr>\n",
       "    <tr>\n",
       "      <th>29062</th>\n",
       "      <td>0</td>\n",
       "      <td>1</td>\n",
       "      <td>0</td>\n",
       "      <td>1</td>\n",
       "      <td>0</td>\n",
       "      <td>0</td>\n",
       "      <td>1</td>\n",
       "      <td>0</td>\n",
       "      <td>0</td>\n",
       "    </tr>\n",
       "    <tr>\n",
       "      <th>29063</th>\n",
       "      <td>1</td>\n",
       "      <td>1</td>\n",
       "      <td>0</td>\n",
       "      <td>1</td>\n",
       "      <td>0</td>\n",
       "      <td>0</td>\n",
       "      <td>1</td>\n",
       "      <td>1</td>\n",
       "      <td>0</td>\n",
       "    </tr>\n",
       "    <tr>\n",
       "      <th>29064</th>\n",
       "      <td>0</td>\n",
       "      <td>1</td>\n",
       "      <td>0</td>\n",
       "      <td>1</td>\n",
       "      <td>0</td>\n",
       "      <td>0</td>\n",
       "      <td>1</td>\n",
       "      <td>1</td>\n",
       "      <td>0</td>\n",
       "    </tr>\n",
       "  </tbody>\n",
       "</table>\n",
       "<p>29065 rows × 9 columns</p>\n",
       "</div>"
      ],
      "text/plain": [
       "       Male  Yes  Never_worked  Private  Self-employed  children  Urban  \\\n",
       "0         1    1             0        1              0         0      1   \n",
       "1         0    1             0        1              0         0      0   \n",
       "2         0    1             0        1              0         0      1   \n",
       "3         0    1             0        0              1         0      0   \n",
       "4         0    1             0        1              0         0      0   \n",
       "...     ...  ...           ...      ...            ...       ...    ...   \n",
       "29060     0    0             0        0              0         1      1   \n",
       "29061     0    1             0        0              0         0      1   \n",
       "29062     0    1             0        1              0         0      1   \n",
       "29063     1    1             0        1              0         0      1   \n",
       "29064     0    1             0        1              0         0      1   \n",
       "\n",
       "       never smoked  smokes  \n",
       "0                 1       0  \n",
       "1                 0       0  \n",
       "2                 0       0  \n",
       "3                 1       0  \n",
       "4                 0       1  \n",
       "...             ...     ...  \n",
       "29060             1       0  \n",
       "29061             0       0  \n",
       "29062             0       0  \n",
       "29063             1       0  \n",
       "29064             1       0  \n",
       "\n",
       "[29065 rows x 9 columns]"
      ]
     },
     "execution_count": 15,
     "metadata": {},
     "output_type": "execute_result"
    }
   ],
   "source": [
    "#TODO:  Check for Object type column, get there dummies values, reduce there demensionality to 1, \n",
    "df_transformed = pd.DataFrame()\n",
    "for col in df:\n",
    "    # Check for obj type\n",
    "    if df[col].dtypes == 'object':         \n",
    "        #  generate dummies values fpr the column\n",
    "        dummy_val = pd.get_dummies(df[col], drop_first=True )  \n",
    "        # Add the new column df_transformed\n",
    "        df_transformed = pd.concat([df_transformed, dummy_val], axis=1)  \n",
    "df_transformed        "
   ]
  },
  {
   "cell_type": "code",
   "execution_count": 16,
   "id": "54dc4e39",
   "metadata": {},
   "outputs": [],
   "source": [
    "# Set the index of df_transformed to match the index of df_clean_outlier\n",
    "\n",
    "#df_transformed.index = df_sample_over.index \n",
    "df_transformed.index = df.index "
   ]
  },
  {
   "cell_type": "code",
   "execution_count": 17,
   "id": "2f4e7b1b",
   "metadata": {},
   "outputs": [
    {
     "data": {
      "text/html": [
       "<div>\n",
       "<style scoped>\n",
       "    .dataframe tbody tr th:only-of-type {\n",
       "        vertical-align: middle;\n",
       "    }\n",
       "\n",
       "    .dataframe tbody tr th {\n",
       "        vertical-align: top;\n",
       "    }\n",
       "\n",
       "    .dataframe thead th {\n",
       "        text-align: right;\n",
       "    }\n",
       "</style>\n",
       "<table border=\"1\" class=\"dataframe\">\n",
       "  <thead>\n",
       "    <tr style=\"text-align: right;\">\n",
       "      <th></th>\n",
       "      <th>Male</th>\n",
       "      <th>Yes</th>\n",
       "      <th>Never_worked</th>\n",
       "      <th>Private</th>\n",
       "      <th>Self-employed</th>\n",
       "      <th>children</th>\n",
       "      <th>Urban</th>\n",
       "      <th>never smoked</th>\n",
       "      <th>smokes</th>\n",
       "    </tr>\n",
       "  </thead>\n",
       "  <tbody>\n",
       "    <tr>\n",
       "      <th>29062</th>\n",
       "      <td>0</td>\n",
       "      <td>1</td>\n",
       "      <td>0</td>\n",
       "      <td>1</td>\n",
       "      <td>0</td>\n",
       "      <td>0</td>\n",
       "      <td>1</td>\n",
       "      <td>0</td>\n",
       "      <td>0</td>\n",
       "    </tr>\n",
       "    <tr>\n",
       "      <th>29063</th>\n",
       "      <td>1</td>\n",
       "      <td>1</td>\n",
       "      <td>0</td>\n",
       "      <td>1</td>\n",
       "      <td>0</td>\n",
       "      <td>0</td>\n",
       "      <td>1</td>\n",
       "      <td>1</td>\n",
       "      <td>0</td>\n",
       "    </tr>\n",
       "    <tr>\n",
       "      <th>29064</th>\n",
       "      <td>0</td>\n",
       "      <td>1</td>\n",
       "      <td>0</td>\n",
       "      <td>1</td>\n",
       "      <td>0</td>\n",
       "      <td>0</td>\n",
       "      <td>1</td>\n",
       "      <td>1</td>\n",
       "      <td>0</td>\n",
       "    </tr>\n",
       "  </tbody>\n",
       "</table>\n",
       "</div>"
      ],
      "text/plain": [
       "       Male  Yes  Never_worked  Private  Self-employed  children  Urban  \\\n",
       "29062     0    1             0        1              0         0      1   \n",
       "29063     1    1             0        1              0         0      1   \n",
       "29064     0    1             0        1              0         0      1   \n",
       "\n",
       "       never smoked  smokes  \n",
       "29062             0       0  \n",
       "29063             1       0  \n",
       "29064             1       0  "
      ]
     },
     "execution_count": 17,
     "metadata": {},
     "output_type": "execute_result"
    }
   ],
   "source": [
    "df_transformed.tail(3)"
   ]
  },
  {
   "cell_type": "code",
   "execution_count": 18,
   "id": "6081b7ad",
   "metadata": {},
   "outputs": [
    {
     "data": {
      "text/html": [
       "<div>\n",
       "<style scoped>\n",
       "    .dataframe tbody tr th:only-of-type {\n",
       "        vertical-align: middle;\n",
       "    }\n",
       "\n",
       "    .dataframe tbody tr th {\n",
       "        vertical-align: top;\n",
       "    }\n",
       "\n",
       "    .dataframe thead th {\n",
       "        text-align: right;\n",
       "    }\n",
       "</style>\n",
       "<table border=\"1\" class=\"dataframe\">\n",
       "  <thead>\n",
       "    <tr style=\"text-align: right;\">\n",
       "      <th></th>\n",
       "      <th>gender</th>\n",
       "      <th>age</th>\n",
       "      <th>hypertension</th>\n",
       "      <th>heart_disease</th>\n",
       "      <th>ever_married</th>\n",
       "      <th>work_type</th>\n",
       "      <th>Residence_type</th>\n",
       "      <th>avg_glucose_level</th>\n",
       "      <th>bmi</th>\n",
       "      <th>smoking_status</th>\n",
       "      <th>stroke</th>\n",
       "      <th>Male</th>\n",
       "      <th>Yes</th>\n",
       "      <th>Never_worked</th>\n",
       "      <th>Private</th>\n",
       "      <th>Self-employed</th>\n",
       "      <th>children</th>\n",
       "      <th>Urban</th>\n",
       "      <th>never smoked</th>\n",
       "      <th>smokes</th>\n",
       "    </tr>\n",
       "  </thead>\n",
       "  <tbody>\n",
       "    <tr>\n",
       "      <th>0</th>\n",
       "      <td>Male</td>\n",
       "      <td>58.0</td>\n",
       "      <td>1</td>\n",
       "      <td>0</td>\n",
       "      <td>Yes</td>\n",
       "      <td>Private</td>\n",
       "      <td>Urban</td>\n",
       "      <td>87.96</td>\n",
       "      <td>39.2</td>\n",
       "      <td>never smoked</td>\n",
       "      <td>0</td>\n",
       "      <td>1</td>\n",
       "      <td>1</td>\n",
       "      <td>0</td>\n",
       "      <td>1</td>\n",
       "      <td>0</td>\n",
       "      <td>0</td>\n",
       "      <td>1</td>\n",
       "      <td>1</td>\n",
       "      <td>0</td>\n",
       "    </tr>\n",
       "    <tr>\n",
       "      <th>1</th>\n",
       "      <td>Female</td>\n",
       "      <td>70.0</td>\n",
       "      <td>0</td>\n",
       "      <td>0</td>\n",
       "      <td>Yes</td>\n",
       "      <td>Private</td>\n",
       "      <td>Rural</td>\n",
       "      <td>69.04</td>\n",
       "      <td>35.9</td>\n",
       "      <td>formerly smoked</td>\n",
       "      <td>0</td>\n",
       "      <td>0</td>\n",
       "      <td>1</td>\n",
       "      <td>0</td>\n",
       "      <td>1</td>\n",
       "      <td>0</td>\n",
       "      <td>0</td>\n",
       "      <td>0</td>\n",
       "      <td>0</td>\n",
       "      <td>0</td>\n",
       "    </tr>\n",
       "    <tr>\n",
       "      <th>2</th>\n",
       "      <td>Female</td>\n",
       "      <td>52.0</td>\n",
       "      <td>0</td>\n",
       "      <td>0</td>\n",
       "      <td>Yes</td>\n",
       "      <td>Private</td>\n",
       "      <td>Urban</td>\n",
       "      <td>77.59</td>\n",
       "      <td>17.7</td>\n",
       "      <td>formerly smoked</td>\n",
       "      <td>0</td>\n",
       "      <td>0</td>\n",
       "      <td>1</td>\n",
       "      <td>0</td>\n",
       "      <td>1</td>\n",
       "      <td>0</td>\n",
       "      <td>0</td>\n",
       "      <td>1</td>\n",
       "      <td>0</td>\n",
       "      <td>0</td>\n",
       "    </tr>\n",
       "    <tr>\n",
       "      <th>3</th>\n",
       "      <td>Female</td>\n",
       "      <td>75.0</td>\n",
       "      <td>0</td>\n",
       "      <td>1</td>\n",
       "      <td>Yes</td>\n",
       "      <td>Self-employed</td>\n",
       "      <td>Rural</td>\n",
       "      <td>243.53</td>\n",
       "      <td>27.0</td>\n",
       "      <td>never smoked</td>\n",
       "      <td>0</td>\n",
       "      <td>0</td>\n",
       "      <td>1</td>\n",
       "      <td>0</td>\n",
       "      <td>0</td>\n",
       "      <td>1</td>\n",
       "      <td>0</td>\n",
       "      <td>0</td>\n",
       "      <td>1</td>\n",
       "      <td>0</td>\n",
       "    </tr>\n",
       "    <tr>\n",
       "      <th>4</th>\n",
       "      <td>Female</td>\n",
       "      <td>32.0</td>\n",
       "      <td>0</td>\n",
       "      <td>0</td>\n",
       "      <td>Yes</td>\n",
       "      <td>Private</td>\n",
       "      <td>Rural</td>\n",
       "      <td>77.67</td>\n",
       "      <td>32.3</td>\n",
       "      <td>smokes</td>\n",
       "      <td>0</td>\n",
       "      <td>0</td>\n",
       "      <td>1</td>\n",
       "      <td>0</td>\n",
       "      <td>1</td>\n",
       "      <td>0</td>\n",
       "      <td>0</td>\n",
       "      <td>0</td>\n",
       "      <td>0</td>\n",
       "      <td>1</td>\n",
       "    </tr>\n",
       "    <tr>\n",
       "      <th>...</th>\n",
       "      <td>...</td>\n",
       "      <td>...</td>\n",
       "      <td>...</td>\n",
       "      <td>...</td>\n",
       "      <td>...</td>\n",
       "      <td>...</td>\n",
       "      <td>...</td>\n",
       "      <td>...</td>\n",
       "      <td>...</td>\n",
       "      <td>...</td>\n",
       "      <td>...</td>\n",
       "      <td>...</td>\n",
       "      <td>...</td>\n",
       "      <td>...</td>\n",
       "      <td>...</td>\n",
       "      <td>...</td>\n",
       "      <td>...</td>\n",
       "      <td>...</td>\n",
       "      <td>...</td>\n",
       "      <td>...</td>\n",
       "    </tr>\n",
       "    <tr>\n",
       "      <th>29060</th>\n",
       "      <td>Female</td>\n",
       "      <td>10.0</td>\n",
       "      <td>0</td>\n",
       "      <td>0</td>\n",
       "      <td>No</td>\n",
       "      <td>children</td>\n",
       "      <td>Urban</td>\n",
       "      <td>58.64</td>\n",
       "      <td>20.4</td>\n",
       "      <td>never smoked</td>\n",
       "      <td>0</td>\n",
       "      <td>0</td>\n",
       "      <td>0</td>\n",
       "      <td>0</td>\n",
       "      <td>0</td>\n",
       "      <td>0</td>\n",
       "      <td>1</td>\n",
       "      <td>1</td>\n",
       "      <td>1</td>\n",
       "      <td>0</td>\n",
       "    </tr>\n",
       "    <tr>\n",
       "      <th>29061</th>\n",
       "      <td>Female</td>\n",
       "      <td>56.0</td>\n",
       "      <td>0</td>\n",
       "      <td>0</td>\n",
       "      <td>Yes</td>\n",
       "      <td>Govt_job</td>\n",
       "      <td>Urban</td>\n",
       "      <td>213.61</td>\n",
       "      <td>55.4</td>\n",
       "      <td>formerly smoked</td>\n",
       "      <td>0</td>\n",
       "      <td>0</td>\n",
       "      <td>1</td>\n",
       "      <td>0</td>\n",
       "      <td>0</td>\n",
       "      <td>0</td>\n",
       "      <td>0</td>\n",
       "      <td>1</td>\n",
       "      <td>0</td>\n",
       "      <td>0</td>\n",
       "    </tr>\n",
       "    <tr>\n",
       "      <th>29062</th>\n",
       "      <td>Female</td>\n",
       "      <td>82.0</td>\n",
       "      <td>1</td>\n",
       "      <td>0</td>\n",
       "      <td>Yes</td>\n",
       "      <td>Private</td>\n",
       "      <td>Urban</td>\n",
       "      <td>91.94</td>\n",
       "      <td>28.9</td>\n",
       "      <td>formerly smoked</td>\n",
       "      <td>0</td>\n",
       "      <td>0</td>\n",
       "      <td>1</td>\n",
       "      <td>0</td>\n",
       "      <td>1</td>\n",
       "      <td>0</td>\n",
       "      <td>0</td>\n",
       "      <td>1</td>\n",
       "      <td>0</td>\n",
       "      <td>0</td>\n",
       "    </tr>\n",
       "    <tr>\n",
       "      <th>29063</th>\n",
       "      <td>Male</td>\n",
       "      <td>40.0</td>\n",
       "      <td>0</td>\n",
       "      <td>0</td>\n",
       "      <td>Yes</td>\n",
       "      <td>Private</td>\n",
       "      <td>Urban</td>\n",
       "      <td>99.16</td>\n",
       "      <td>33.2</td>\n",
       "      <td>never smoked</td>\n",
       "      <td>0</td>\n",
       "      <td>1</td>\n",
       "      <td>1</td>\n",
       "      <td>0</td>\n",
       "      <td>1</td>\n",
       "      <td>0</td>\n",
       "      <td>0</td>\n",
       "      <td>1</td>\n",
       "      <td>1</td>\n",
       "      <td>0</td>\n",
       "    </tr>\n",
       "    <tr>\n",
       "      <th>29064</th>\n",
       "      <td>Female</td>\n",
       "      <td>82.0</td>\n",
       "      <td>0</td>\n",
       "      <td>0</td>\n",
       "      <td>Yes</td>\n",
       "      <td>Private</td>\n",
       "      <td>Urban</td>\n",
       "      <td>79.48</td>\n",
       "      <td>20.6</td>\n",
       "      <td>never smoked</td>\n",
       "      <td>0</td>\n",
       "      <td>0</td>\n",
       "      <td>1</td>\n",
       "      <td>0</td>\n",
       "      <td>1</td>\n",
       "      <td>0</td>\n",
       "      <td>0</td>\n",
       "      <td>1</td>\n",
       "      <td>1</td>\n",
       "      <td>0</td>\n",
       "    </tr>\n",
       "  </tbody>\n",
       "</table>\n",
       "<p>29065 rows × 20 columns</p>\n",
       "</div>"
      ],
      "text/plain": [
       "       gender   age  hypertension  heart_disease ever_married      work_type  \\\n",
       "0        Male  58.0             1              0          Yes        Private   \n",
       "1      Female  70.0             0              0          Yes        Private   \n",
       "2      Female  52.0             0              0          Yes        Private   \n",
       "3      Female  75.0             0              1          Yes  Self-employed   \n",
       "4      Female  32.0             0              0          Yes        Private   \n",
       "...       ...   ...           ...            ...          ...            ...   \n",
       "29060  Female  10.0             0              0           No       children   \n",
       "29061  Female  56.0             0              0          Yes       Govt_job   \n",
       "29062  Female  82.0             1              0          Yes        Private   \n",
       "29063    Male  40.0             0              0          Yes        Private   \n",
       "29064  Female  82.0             0              0          Yes        Private   \n",
       "\n",
       "      Residence_type  avg_glucose_level   bmi   smoking_status  stroke  Male  \\\n",
       "0              Urban              87.96  39.2     never smoked       0     1   \n",
       "1              Rural              69.04  35.9  formerly smoked       0     0   \n",
       "2              Urban              77.59  17.7  formerly smoked       0     0   \n",
       "3              Rural             243.53  27.0     never smoked       0     0   \n",
       "4              Rural              77.67  32.3           smokes       0     0   \n",
       "...              ...                ...   ...              ...     ...   ...   \n",
       "29060          Urban              58.64  20.4     never smoked       0     0   \n",
       "29061          Urban             213.61  55.4  formerly smoked       0     0   \n",
       "29062          Urban              91.94  28.9  formerly smoked       0     0   \n",
       "29063          Urban              99.16  33.2     never smoked       0     1   \n",
       "29064          Urban              79.48  20.6     never smoked       0     0   \n",
       "\n",
       "       Yes  Never_worked  Private  Self-employed  children  Urban  \\\n",
       "0        1             0        1              0         0      1   \n",
       "1        1             0        1              0         0      0   \n",
       "2        1             0        1              0         0      1   \n",
       "3        1             0        0              1         0      0   \n",
       "4        1             0        1              0         0      0   \n",
       "...    ...           ...      ...            ...       ...    ...   \n",
       "29060    0             0        0              0         1      1   \n",
       "29061    1             0        0              0         0      1   \n",
       "29062    1             0        1              0         0      1   \n",
       "29063    1             0        1              0         0      1   \n",
       "29064    1             0        1              0         0      1   \n",
       "\n",
       "       never smoked  smokes  \n",
       "0                 1       0  \n",
       "1                 0       0  \n",
       "2                 0       0  \n",
       "3                 1       0  \n",
       "4                 0       1  \n",
       "...             ...     ...  \n",
       "29060             1       0  \n",
       "29061             0       0  \n",
       "29062             0       0  \n",
       "29063             1       0  \n",
       "29064             1       0  \n",
       "\n",
       "[29065 rows x 20 columns]"
      ]
     },
     "execution_count": 18,
     "metadata": {},
     "output_type": "execute_result"
    }
   ],
   "source": [
    "# concanteenate newly generate and origin dataset\n",
    "df_clean_transformed = pd.concat([df, df_transformed], axis=1) \n",
    "df_clean_transformed"
   ]
  },
  {
   "cell_type": "code",
   "execution_count": 19,
   "id": "04f1a4a9",
   "metadata": {},
   "outputs": [
    {
     "data": {
      "text/html": [
       "<div>\n",
       "<style scoped>\n",
       "    .dataframe tbody tr th:only-of-type {\n",
       "        vertical-align: middle;\n",
       "    }\n",
       "\n",
       "    .dataframe tbody tr th {\n",
       "        vertical-align: top;\n",
       "    }\n",
       "\n",
       "    .dataframe thead th {\n",
       "        text-align: right;\n",
       "    }\n",
       "</style>\n",
       "<table border=\"1\" class=\"dataframe\">\n",
       "  <thead>\n",
       "    <tr style=\"text-align: right;\">\n",
       "      <th></th>\n",
       "      <th>age</th>\n",
       "      <th>hypertension</th>\n",
       "      <th>heart_disease</th>\n",
       "      <th>avg_glucose_level</th>\n",
       "      <th>bmi</th>\n",
       "      <th>stroke</th>\n",
       "      <th>Male</th>\n",
       "      <th>Yes</th>\n",
       "      <th>Never_worked</th>\n",
       "      <th>Private</th>\n",
       "      <th>Self-employed</th>\n",
       "      <th>children</th>\n",
       "      <th>Urban</th>\n",
       "      <th>never smoked</th>\n",
       "      <th>smokes</th>\n",
       "    </tr>\n",
       "  </thead>\n",
       "  <tbody>\n",
       "    <tr>\n",
       "      <th>11449</th>\n",
       "      <td>26.0</td>\n",
       "      <td>0</td>\n",
       "      <td>0</td>\n",
       "      <td>105.44</td>\n",
       "      <td>33.8</td>\n",
       "      <td>0</td>\n",
       "      <td>1</td>\n",
       "      <td>1</td>\n",
       "      <td>0</td>\n",
       "      <td>0</td>\n",
       "      <td>1</td>\n",
       "      <td>0</td>\n",
       "      <td>1</td>\n",
       "      <td>1</td>\n",
       "      <td>0</td>\n",
       "    </tr>\n",
       "    <tr>\n",
       "      <th>21194</th>\n",
       "      <td>56.0</td>\n",
       "      <td>0</td>\n",
       "      <td>0</td>\n",
       "      <td>107.34</td>\n",
       "      <td>31.1</td>\n",
       "      <td>0</td>\n",
       "      <td>0</td>\n",
       "      <td>1</td>\n",
       "      <td>0</td>\n",
       "      <td>1</td>\n",
       "      <td>0</td>\n",
       "      <td>0</td>\n",
       "      <td>1</td>\n",
       "      <td>0</td>\n",
       "      <td>0</td>\n",
       "    </tr>\n",
       "    <tr>\n",
       "      <th>7922</th>\n",
       "      <td>74.0</td>\n",
       "      <td>0</td>\n",
       "      <td>1</td>\n",
       "      <td>154.10</td>\n",
       "      <td>32.3</td>\n",
       "      <td>0</td>\n",
       "      <td>0</td>\n",
       "      <td>1</td>\n",
       "      <td>0</td>\n",
       "      <td>0</td>\n",
       "      <td>1</td>\n",
       "      <td>0</td>\n",
       "      <td>1</td>\n",
       "      <td>0</td>\n",
       "      <td>0</td>\n",
       "    </tr>\n",
       "    <tr>\n",
       "      <th>5810</th>\n",
       "      <td>13.0</td>\n",
       "      <td>0</td>\n",
       "      <td>0</td>\n",
       "      <td>63.31</td>\n",
       "      <td>40.0</td>\n",
       "      <td>0</td>\n",
       "      <td>0</td>\n",
       "      <td>0</td>\n",
       "      <td>0</td>\n",
       "      <td>0</td>\n",
       "      <td>0</td>\n",
       "      <td>1</td>\n",
       "      <td>1</td>\n",
       "      <td>1</td>\n",
       "      <td>0</td>\n",
       "    </tr>\n",
       "  </tbody>\n",
       "</table>\n",
       "</div>"
      ],
      "text/plain": [
       "        age  hypertension  heart_disease  avg_glucose_level   bmi  stroke  \\\n",
       "11449  26.0             0              0             105.44  33.8       0   \n",
       "21194  56.0             0              0             107.34  31.1       0   \n",
       "7922   74.0             0              1             154.10  32.3       0   \n",
       "5810   13.0             0              0              63.31  40.0       0   \n",
       "\n",
       "       Male  Yes  Never_worked  Private  Self-employed  children  Urban  \\\n",
       "11449     1    1             0        0              1         0      1   \n",
       "21194     0    1             0        1              0         0      1   \n",
       "7922      0    1             0        0              1         0      1   \n",
       "5810      0    0             0        0              0         1      1   \n",
       "\n",
       "       never smoked  smokes  \n",
       "11449             1       0  \n",
       "21194             0       0  \n",
       "7922              0       0  \n",
       "5810              1       0  "
      ]
     },
     "execution_count": 19,
     "metadata": {},
     "output_type": "execute_result"
    }
   ],
   "source": [
    "# Drop the object type column\n",
    "df_clean_transformed.drop(['gender', 'work_type', 'Residence_type', 'ever_married', 'smoking_status'], axis=1, inplace=True)\n",
    "df_clean_transformed.sample(4)"
   ]
  },
  {
   "cell_type": "markdown",
   "id": "e1c6620b",
   "metadata": {},
   "source": [
    "### Using SMOTE from imbalanced-learn to balance the DataSet"
   ]
  },
  {
   "cell_type": "code",
   "execution_count": 20,
   "id": "51720f7c",
   "metadata": {},
   "outputs": [
    {
     "name": "stdout",
     "output_type": "stream",
     "text": [
      "Defaulting to user installation because normal site-packages is not writeable\n",
      "Requirement already satisfied: imbalanced-learn in c:\\users\\ola\\appdata\\roaming\\python\\python39\\site-packages (0.11.0)\n",
      "Requirement already satisfied: numpy>=1.17.3 in c:\\users\\ola\\appdata\\roaming\\python\\python39\\site-packages (from imbalanced-learn) (1.22.4)\n",
      "Requirement already satisfied: scikit-learn>=1.0.2 in c:\\programdata\\anaconda3\\lib\\site-packages (from imbalanced-learn) (1.0.2)\n",
      "Requirement already satisfied: scipy>=1.5.0 in c:\\programdata\\anaconda3\\lib\\site-packages (from imbalanced-learn) (1.7.3)\n",
      "Requirement already satisfied: joblib>=1.1.1 in c:\\users\\ola\\appdata\\roaming\\python\\python39\\site-packages (from imbalanced-learn) (1.3.2)\n",
      "Requirement already satisfied: threadpoolctl>=2.0.0 in c:\\programdata\\anaconda3\\lib\\site-packages (from imbalanced-learn) (2.2.0)\n"
     ]
    }
   ],
   "source": [
    "!pip install imbalanced-learn\n",
    "from imblearn.over_sampling import SMOTE"
   ]
  },
  {
   "cell_type": "code",
   "execution_count": 68,
   "id": "3346dfe9",
   "metadata": {},
   "outputs": [
    {
     "data": {
      "text/plain": [
       "(29065, 15)"
      ]
     },
     "execution_count": 68,
     "metadata": {},
     "output_type": "execute_result"
    }
   ],
   "source": [
    "df_clean_transformed.shape"
   ]
  },
  {
   "cell_type": "code",
   "execution_count": 70,
   "id": "58a194b6",
   "metadata": {},
   "outputs": [
    {
     "data": {
      "text/plain": [
       "(28517, 548)"
      ]
     },
     "execution_count": 70,
     "metadata": {},
     "output_type": "execute_result"
    }
   ],
   "source": [
    "count_class_0, count_class_1 = df.stroke.value_counts()\n",
    "count_class_0, count_class_1"
   ]
  },
  {
   "cell_type": "code",
   "execution_count": 81,
   "id": "b49b3362",
   "metadata": {},
   "outputs": [
    {
     "name": "stdout",
     "output_type": "stream",
     "text": [
      "20% of OVERSAMPLE DATA ====>  5703\n"
     ]
    },
    {
     "data": {
      "text/html": [
       "<div>\n",
       "<style scoped>\n",
       "    .dataframe tbody tr th:only-of-type {\n",
       "        vertical-align: middle;\n",
       "    }\n",
       "\n",
       "    .dataframe tbody tr th {\n",
       "        vertical-align: top;\n",
       "    }\n",
       "\n",
       "    .dataframe thead th {\n",
       "        text-align: right;\n",
       "    }\n",
       "</style>\n",
       "<table border=\"1\" class=\"dataframe\">\n",
       "  <thead>\n",
       "    <tr style=\"text-align: right;\">\n",
       "      <th></th>\n",
       "      <th>age</th>\n",
       "      <th>hypertension</th>\n",
       "      <th>heart_disease</th>\n",
       "      <th>avg_glucose_level</th>\n",
       "      <th>bmi</th>\n",
       "      <th>stroke</th>\n",
       "      <th>Male</th>\n",
       "      <th>Yes</th>\n",
       "      <th>Never_worked</th>\n",
       "      <th>Private</th>\n",
       "      <th>Self-employed</th>\n",
       "      <th>children</th>\n",
       "      <th>Urban</th>\n",
       "      <th>never smoked</th>\n",
       "      <th>smokes</th>\n",
       "    </tr>\n",
       "  </thead>\n",
       "  <tbody>\n",
       "    <tr>\n",
       "      <th>323</th>\n",
       "      <td>59.0</td>\n",
       "      <td>0</td>\n",
       "      <td>0</td>\n",
       "      <td>240.71</td>\n",
       "      <td>43.9</td>\n",
       "      <td>0</td>\n",
       "      <td>0</td>\n",
       "      <td>1</td>\n",
       "      <td>0</td>\n",
       "      <td>1</td>\n",
       "      <td>0</td>\n",
       "      <td>0</td>\n",
       "      <td>1</td>\n",
       "      <td>0</td>\n",
       "      <td>0</td>\n",
       "    </tr>\n",
       "    <tr>\n",
       "      <th>6751</th>\n",
       "      <td>47.0</td>\n",
       "      <td>0</td>\n",
       "      <td>0</td>\n",
       "      <td>63.48</td>\n",
       "      <td>21.5</td>\n",
       "      <td>0</td>\n",
       "      <td>0</td>\n",
       "      <td>1</td>\n",
       "      <td>0</td>\n",
       "      <td>0</td>\n",
       "      <td>1</td>\n",
       "      <td>0</td>\n",
       "      <td>1</td>\n",
       "      <td>0</td>\n",
       "      <td>1</td>\n",
       "    </tr>\n",
       "    <tr>\n",
       "      <th>4864</th>\n",
       "      <td>69.0</td>\n",
       "      <td>0</td>\n",
       "      <td>0</td>\n",
       "      <td>70.00</td>\n",
       "      <td>23.0</td>\n",
       "      <td>0</td>\n",
       "      <td>1</td>\n",
       "      <td>1</td>\n",
       "      <td>0</td>\n",
       "      <td>0</td>\n",
       "      <td>0</td>\n",
       "      <td>0</td>\n",
       "      <td>0</td>\n",
       "      <td>0</td>\n",
       "      <td>0</td>\n",
       "    </tr>\n",
       "    <tr>\n",
       "      <th>819</th>\n",
       "      <td>76.0</td>\n",
       "      <td>0</td>\n",
       "      <td>0</td>\n",
       "      <td>84.21</td>\n",
       "      <td>24.4</td>\n",
       "      <td>0</td>\n",
       "      <td>0</td>\n",
       "      <td>1</td>\n",
       "      <td>0</td>\n",
       "      <td>0</td>\n",
       "      <td>0</td>\n",
       "      <td>0</td>\n",
       "      <td>0</td>\n",
       "      <td>1</td>\n",
       "      <td>0</td>\n",
       "    </tr>\n",
       "    <tr>\n",
       "      <th>15194</th>\n",
       "      <td>28.0</td>\n",
       "      <td>0</td>\n",
       "      <td>0</td>\n",
       "      <td>84.56</td>\n",
       "      <td>24.8</td>\n",
       "      <td>0</td>\n",
       "      <td>1</td>\n",
       "      <td>1</td>\n",
       "      <td>0</td>\n",
       "      <td>0</td>\n",
       "      <td>1</td>\n",
       "      <td>0</td>\n",
       "      <td>0</td>\n",
       "      <td>0</td>\n",
       "      <td>1</td>\n",
       "    </tr>\n",
       "    <tr>\n",
       "      <th>...</th>\n",
       "      <td>...</td>\n",
       "      <td>...</td>\n",
       "      <td>...</td>\n",
       "      <td>...</td>\n",
       "      <td>...</td>\n",
       "      <td>...</td>\n",
       "      <td>...</td>\n",
       "      <td>...</td>\n",
       "      <td>...</td>\n",
       "      <td>...</td>\n",
       "      <td>...</td>\n",
       "      <td>...</td>\n",
       "      <td>...</td>\n",
       "      <td>...</td>\n",
       "      <td>...</td>\n",
       "    </tr>\n",
       "    <tr>\n",
       "      <th>28863</th>\n",
       "      <td>79.0</td>\n",
       "      <td>0</td>\n",
       "      <td>1</td>\n",
       "      <td>88.29</td>\n",
       "      <td>36.0</td>\n",
       "      <td>1</td>\n",
       "      <td>1</td>\n",
       "      <td>1</td>\n",
       "      <td>0</td>\n",
       "      <td>0</td>\n",
       "      <td>1</td>\n",
       "      <td>0</td>\n",
       "      <td>1</td>\n",
       "      <td>1</td>\n",
       "      <td>0</td>\n",
       "    </tr>\n",
       "    <tr>\n",
       "      <th>28891</th>\n",
       "      <td>76.0</td>\n",
       "      <td>0</td>\n",
       "      <td>0</td>\n",
       "      <td>93.38</td>\n",
       "      <td>26.7</td>\n",
       "      <td>1</td>\n",
       "      <td>1</td>\n",
       "      <td>1</td>\n",
       "      <td>0</td>\n",
       "      <td>0</td>\n",
       "      <td>1</td>\n",
       "      <td>0</td>\n",
       "      <td>0</td>\n",
       "      <td>0</td>\n",
       "      <td>0</td>\n",
       "    </tr>\n",
       "    <tr>\n",
       "      <th>28910</th>\n",
       "      <td>56.0</td>\n",
       "      <td>0</td>\n",
       "      <td>0</td>\n",
       "      <td>83.27</td>\n",
       "      <td>32.9</td>\n",
       "      <td>1</td>\n",
       "      <td>0</td>\n",
       "      <td>1</td>\n",
       "      <td>0</td>\n",
       "      <td>1</td>\n",
       "      <td>0</td>\n",
       "      <td>0</td>\n",
       "      <td>0</td>\n",
       "      <td>0</td>\n",
       "      <td>1</td>\n",
       "    </tr>\n",
       "    <tr>\n",
       "      <th>29004</th>\n",
       "      <td>80.0</td>\n",
       "      <td>0</td>\n",
       "      <td>0</td>\n",
       "      <td>75.91</td>\n",
       "      <td>26.7</td>\n",
       "      <td>1</td>\n",
       "      <td>0</td>\n",
       "      <td>1</td>\n",
       "      <td>0</td>\n",
       "      <td>0</td>\n",
       "      <td>1</td>\n",
       "      <td>0</td>\n",
       "      <td>1</td>\n",
       "      <td>1</td>\n",
       "      <td>0</td>\n",
       "    </tr>\n",
       "    <tr>\n",
       "      <th>29014</th>\n",
       "      <td>62.0</td>\n",
       "      <td>1</td>\n",
       "      <td>1</td>\n",
       "      <td>77.97</td>\n",
       "      <td>31.5</td>\n",
       "      <td>1</td>\n",
       "      <td>1</td>\n",
       "      <td>1</td>\n",
       "      <td>0</td>\n",
       "      <td>1</td>\n",
       "      <td>0</td>\n",
       "      <td>0</td>\n",
       "      <td>0</td>\n",
       "      <td>0</td>\n",
       "      <td>0</td>\n",
       "    </tr>\n",
       "  </tbody>\n",
       "</table>\n",
       "<p>6251 rows × 15 columns</p>\n",
       "</div>"
      ],
      "text/plain": [
       "        age  hypertension  heart_disease  avg_glucose_level   bmi  stroke  \\\n",
       "323    59.0             0              0             240.71  43.9       0   \n",
       "6751   47.0             0              0              63.48  21.5       0   \n",
       "4864   69.0             0              0              70.00  23.0       0   \n",
       "819    76.0             0              0              84.21  24.4       0   \n",
       "15194  28.0             0              0              84.56  24.8       0   \n",
       "...     ...           ...            ...                ...   ...     ...   \n",
       "28863  79.0             0              1              88.29  36.0       1   \n",
       "28891  76.0             0              0              93.38  26.7       1   \n",
       "28910  56.0             0              0              83.27  32.9       1   \n",
       "29004  80.0             0              0              75.91  26.7       1   \n",
       "29014  62.0             1              1              77.97  31.5       1   \n",
       "\n",
       "       Male  Yes  Never_worked  Private  Self-employed  children  Urban  \\\n",
       "323       0    1             0        1              0         0      1   \n",
       "6751      0    1             0        0              1         0      1   \n",
       "4864      1    1             0        0              0         0      0   \n",
       "819       0    1             0        0              0         0      0   \n",
       "15194     1    1             0        0              1         0      0   \n",
       "...     ...  ...           ...      ...            ...       ...    ...   \n",
       "28863     1    1             0        0              1         0      1   \n",
       "28891     1    1             0        0              1         0      0   \n",
       "28910     0    1             0        1              0         0      0   \n",
       "29004     0    1             0        0              1         0      1   \n",
       "29014     1    1             0        1              0         0      0   \n",
       "\n",
       "       never smoked  smokes  \n",
       "323               0       0  \n",
       "6751              0       1  \n",
       "4864              0       0  \n",
       "819               1       0  \n",
       "15194             0       1  \n",
       "...             ...     ...  \n",
       "28863             1       0  \n",
       "28891             0       0  \n",
       "28910             0       1  \n",
       "29004             1       0  \n",
       "29014             0       0  \n",
       "\n",
       "[6251 rows x 15 columns]"
      ]
     },
     "execution_count": 81,
     "metadata": {},
     "output_type": "execute_result"
    }
   ],
   "source": [
    "# Use 20% of Oversample data\n",
    "n_20_per = int(count_class_0 * 0.20)\n",
    "\n",
    "print( '20% of OVERSAMPLE DATA ====> ', n_20_per)\n",
    "df_class_0 = df_clean_transformed[df_clean_transformed['stroke'] == 0]\n",
    "df_class_1 = df_clean_transformed[df_clean_transformed['stroke'] == 1]\n",
    "\n",
    "# Select 20% of the sample\n",
    "df_class_0_over = df_class_0.sample(n_20_per)\n",
    "\n",
    "# Concatenate class 1 and 0\n",
    "df_clean_transformed_sample = pd.concat([df_class_0_over, df_class_1], axis=0)\n",
    "df_clean_transformed_sample"
   ]
  },
  {
   "cell_type": "code",
   "execution_count": 82,
   "id": "634e7b41",
   "metadata": {},
   "outputs": [],
   "source": [
    "X = df_clean_transformed_sample.drop('stroke', axis=1)  # independent column\n",
    "y = df_clean_transformed_sample['stroke']"
   ]
  },
  {
   "cell_type": "code",
   "execution_count": 83,
   "id": "da2a6924",
   "metadata": {
    "scrolled": true
   },
   "outputs": [
    {
     "data": {
      "text/plain": [
       "0    5703\n",
       "1     548\n",
       "Name: stroke, dtype: int64"
      ]
     },
     "execution_count": 83,
     "metadata": {},
     "output_type": "execute_result"
    }
   ],
   "source": [
    "y.value_counts()"
   ]
  },
  {
   "cell_type": "code",
   "execution_count": 84,
   "id": "fae589e0",
   "metadata": {},
   "outputs": [
    {
     "data": {
      "text/plain": [
       "(6251, 14)"
      ]
     },
     "execution_count": 84,
     "metadata": {},
     "output_type": "execute_result"
    }
   ],
   "source": [
    "X.shape   # dependant column"
   ]
  },
  {
   "cell_type": "code",
   "execution_count": 85,
   "id": "a93e53d6",
   "metadata": {},
   "outputs": [
    {
     "data": {
      "text/plain": [
       "0    5703\n",
       "1    5703\n",
       "Name: stroke, dtype: int64"
      ]
     },
     "execution_count": 85,
     "metadata": {},
     "output_type": "execute_result"
    }
   ],
   "source": [
    "# Balance the dataset using SMOTE and increase the dataset \n",
    "smote = SMOTE(sampling_strategy = 'minority')\n",
    "X_sm, y_sm = smote.fit_resample(X,y)\n",
    "y_sm.value_counts()"
   ]
  },
  {
   "cell_type": "code",
   "execution_count": 86,
   "id": "f351ebc5",
   "metadata": {},
   "outputs": [
    {
     "data": {
      "text/plain": [
       "(11406, 14)"
      ]
     },
     "execution_count": 86,
     "metadata": {},
     "output_type": "execute_result"
    }
   ],
   "source": [
    "X_sm.shape"
   ]
  },
  {
   "cell_type": "markdown",
   "id": "2407b462",
   "metadata": {},
   "source": [
    "##  5.0 MODEL AND EVALUATION\n",
    "\n",
    "+ Let's start by splitting our data into a training set and test set\n",
    "\n",
    "### Splitting the dataset into the Training set and Test set"
   ]
  },
  {
   "cell_type": "code",
   "execution_count": 87,
   "id": "1c221429",
   "metadata": {},
   "outputs": [],
   "source": [
    "from sklearn.model_selection import train_test_split"
   ]
  },
  {
   "cell_type": "code",
   "execution_count": 88,
   "id": "40d4981c",
   "metadata": {},
   "outputs": [],
   "source": [
    "#X_train, X_test, y_train, y_test = train_test_split(X, y, test_size=0.20, random_state=10, stratify=y)\n",
    "X_train, X_test, y_train, y_test = train_test_split(X_sm, y_sm, test_size=0.20, random_state=10, stratify=y_sm)"
   ]
  },
  {
   "cell_type": "code",
   "execution_count": 89,
   "id": "a3b96da0",
   "metadata": {
    "scrolled": true
   },
   "outputs": [
    {
     "data": {
      "text/html": [
       "<div>\n",
       "<style scoped>\n",
       "    .dataframe tbody tr th:only-of-type {\n",
       "        vertical-align: middle;\n",
       "    }\n",
       "\n",
       "    .dataframe tbody tr th {\n",
       "        vertical-align: top;\n",
       "    }\n",
       "\n",
       "    .dataframe thead th {\n",
       "        text-align: right;\n",
       "    }\n",
       "</style>\n",
       "<table border=\"1\" class=\"dataframe\">\n",
       "  <thead>\n",
       "    <tr style=\"text-align: right;\">\n",
       "      <th></th>\n",
       "      <th>age</th>\n",
       "      <th>hypertension</th>\n",
       "      <th>heart_disease</th>\n",
       "      <th>avg_glucose_level</th>\n",
       "      <th>bmi</th>\n",
       "      <th>Male</th>\n",
       "      <th>Yes</th>\n",
       "      <th>Never_worked</th>\n",
       "      <th>Private</th>\n",
       "      <th>Self-employed</th>\n",
       "      <th>children</th>\n",
       "      <th>Urban</th>\n",
       "      <th>never smoked</th>\n",
       "      <th>smokes</th>\n",
       "    </tr>\n",
       "  </thead>\n",
       "  <tbody>\n",
       "    <tr>\n",
       "      <th>2113</th>\n",
       "      <td>28.000000</td>\n",
       "      <td>0</td>\n",
       "      <td>0</td>\n",
       "      <td>82.770000</td>\n",
       "      <td>24.200000</td>\n",
       "      <td>0</td>\n",
       "      <td>0</td>\n",
       "      <td>0</td>\n",
       "      <td>1</td>\n",
       "      <td>0</td>\n",
       "      <td>0</td>\n",
       "      <td>0</td>\n",
       "      <td>0</td>\n",
       "      <td>1</td>\n",
       "    </tr>\n",
       "    <tr>\n",
       "      <th>3177</th>\n",
       "      <td>37.000000</td>\n",
       "      <td>0</td>\n",
       "      <td>0</td>\n",
       "      <td>77.580000</td>\n",
       "      <td>23.800000</td>\n",
       "      <td>0</td>\n",
       "      <td>1</td>\n",
       "      <td>0</td>\n",
       "      <td>0</td>\n",
       "      <td>1</td>\n",
       "      <td>0</td>\n",
       "      <td>0</td>\n",
       "      <td>1</td>\n",
       "      <td>0</td>\n",
       "    </tr>\n",
       "    <tr>\n",
       "      <th>4196</th>\n",
       "      <td>42.000000</td>\n",
       "      <td>0</td>\n",
       "      <td>0</td>\n",
       "      <td>68.830000</td>\n",
       "      <td>37.700000</td>\n",
       "      <td>0</td>\n",
       "      <td>1</td>\n",
       "      <td>0</td>\n",
       "      <td>1</td>\n",
       "      <td>0</td>\n",
       "      <td>0</td>\n",
       "      <td>1</td>\n",
       "      <td>1</td>\n",
       "      <td>0</td>\n",
       "    </tr>\n",
       "    <tr>\n",
       "      <th>974</th>\n",
       "      <td>38.000000</td>\n",
       "      <td>0</td>\n",
       "      <td>0</td>\n",
       "      <td>69.460000</td>\n",
       "      <td>38.100000</td>\n",
       "      <td>1</td>\n",
       "      <td>1</td>\n",
       "      <td>0</td>\n",
       "      <td>0</td>\n",
       "      <td>0</td>\n",
       "      <td>0</td>\n",
       "      <td>1</td>\n",
       "      <td>0</td>\n",
       "      <td>0</td>\n",
       "    </tr>\n",
       "    <tr>\n",
       "      <th>8024</th>\n",
       "      <td>77.247680</td>\n",
       "      <td>0</td>\n",
       "      <td>0</td>\n",
       "      <td>59.292312</td>\n",
       "      <td>24.221057</td>\n",
       "      <td>0</td>\n",
       "      <td>1</td>\n",
       "      <td>0</td>\n",
       "      <td>0</td>\n",
       "      <td>1</td>\n",
       "      <td>0</td>\n",
       "      <td>0</td>\n",
       "      <td>0</td>\n",
       "      <td>0</td>\n",
       "    </tr>\n",
       "    <tr>\n",
       "      <th>11310</th>\n",
       "      <td>81.786406</td>\n",
       "      <td>0</td>\n",
       "      <td>0</td>\n",
       "      <td>111.267961</td>\n",
       "      <td>22.428156</td>\n",
       "      <td>0</td>\n",
       "      <td>0</td>\n",
       "      <td>0</td>\n",
       "      <td>1</td>\n",
       "      <td>0</td>\n",
       "      <td>0</td>\n",
       "      <td>1</td>\n",
       "      <td>0</td>\n",
       "      <td>0</td>\n",
       "    </tr>\n",
       "    <tr>\n",
       "      <th>11188</th>\n",
       "      <td>61.511666</td>\n",
       "      <td>0</td>\n",
       "      <td>0</td>\n",
       "      <td>213.426295</td>\n",
       "      <td>35.318829</td>\n",
       "      <td>0</td>\n",
       "      <td>1</td>\n",
       "      <td>0</td>\n",
       "      <td>0</td>\n",
       "      <td>0</td>\n",
       "      <td>0</td>\n",
       "      <td>0</td>\n",
       "      <td>0</td>\n",
       "      <td>0</td>\n",
       "    </tr>\n",
       "    <tr>\n",
       "      <th>5952</th>\n",
       "      <td>67.000000</td>\n",
       "      <td>0</td>\n",
       "      <td>0</td>\n",
       "      <td>58.050000</td>\n",
       "      <td>31.300000</td>\n",
       "      <td>1</td>\n",
       "      <td>1</td>\n",
       "      <td>0</td>\n",
       "      <td>1</td>\n",
       "      <td>0</td>\n",
       "      <td>0</td>\n",
       "      <td>0</td>\n",
       "      <td>1</td>\n",
       "      <td>0</td>\n",
       "    </tr>\n",
       "    <tr>\n",
       "      <th>9683</th>\n",
       "      <td>80.440933</td>\n",
       "      <td>0</td>\n",
       "      <td>0</td>\n",
       "      <td>65.192679</td>\n",
       "      <td>28.406321</td>\n",
       "      <td>0</td>\n",
       "      <td>0</td>\n",
       "      <td>0</td>\n",
       "      <td>0</td>\n",
       "      <td>0</td>\n",
       "      <td>0</td>\n",
       "      <td>0</td>\n",
       "      <td>0</td>\n",
       "      <td>0</td>\n",
       "    </tr>\n",
       "    <tr>\n",
       "      <th>2102</th>\n",
       "      <td>64.000000</td>\n",
       "      <td>0</td>\n",
       "      <td>0</td>\n",
       "      <td>226.660000</td>\n",
       "      <td>31.700000</td>\n",
       "      <td>0</td>\n",
       "      <td>1</td>\n",
       "      <td>0</td>\n",
       "      <td>0</td>\n",
       "      <td>1</td>\n",
       "      <td>0</td>\n",
       "      <td>0</td>\n",
       "      <td>1</td>\n",
       "      <td>0</td>\n",
       "    </tr>\n",
       "    <tr>\n",
       "      <th>9718</th>\n",
       "      <td>50.313111</td>\n",
       "      <td>0</td>\n",
       "      <td>0</td>\n",
       "      <td>86.377044</td>\n",
       "      <td>38.322108</td>\n",
       "      <td>0</td>\n",
       "      <td>1</td>\n",
       "      <td>0</td>\n",
       "      <td>1</td>\n",
       "      <td>0</td>\n",
       "      <td>0</td>\n",
       "      <td>0</td>\n",
       "      <td>0</td>\n",
       "      <td>0</td>\n",
       "    </tr>\n",
       "    <tr>\n",
       "      <th>4005</th>\n",
       "      <td>39.000000</td>\n",
       "      <td>1</td>\n",
       "      <td>0</td>\n",
       "      <td>70.930000</td>\n",
       "      <td>29.700000</td>\n",
       "      <td>1</td>\n",
       "      <td>1</td>\n",
       "      <td>0</td>\n",
       "      <td>1</td>\n",
       "      <td>0</td>\n",
       "      <td>0</td>\n",
       "      <td>0</td>\n",
       "      <td>0</td>\n",
       "      <td>1</td>\n",
       "    </tr>\n",
       "    <tr>\n",
       "      <th>5501</th>\n",
       "      <td>82.000000</td>\n",
       "      <td>1</td>\n",
       "      <td>1</td>\n",
       "      <td>104.360000</td>\n",
       "      <td>25.700000</td>\n",
       "      <td>1</td>\n",
       "      <td>1</td>\n",
       "      <td>0</td>\n",
       "      <td>0</td>\n",
       "      <td>1</td>\n",
       "      <td>0</td>\n",
       "      <td>1</td>\n",
       "      <td>1</td>\n",
       "      <td>0</td>\n",
       "    </tr>\n",
       "    <tr>\n",
       "      <th>5063</th>\n",
       "      <td>35.000000</td>\n",
       "      <td>1</td>\n",
       "      <td>0</td>\n",
       "      <td>92.950000</td>\n",
       "      <td>34.500000</td>\n",
       "      <td>0</td>\n",
       "      <td>1</td>\n",
       "      <td>0</td>\n",
       "      <td>1</td>\n",
       "      <td>0</td>\n",
       "      <td>0</td>\n",
       "      <td>1</td>\n",
       "      <td>0</td>\n",
       "      <td>1</td>\n",
       "    </tr>\n",
       "    <tr>\n",
       "      <th>11263</th>\n",
       "      <td>56.480689</td>\n",
       "      <td>0</td>\n",
       "      <td>0</td>\n",
       "      <td>237.785353</td>\n",
       "      <td>33.375104</td>\n",
       "      <td>0</td>\n",
       "      <td>1</td>\n",
       "      <td>0</td>\n",
       "      <td>1</td>\n",
       "      <td>0</td>\n",
       "      <td>0</td>\n",
       "      <td>0</td>\n",
       "      <td>0</td>\n",
       "      <td>1</td>\n",
       "    </tr>\n",
       "    <tr>\n",
       "      <th>9694</th>\n",
       "      <td>77.381199</td>\n",
       "      <td>0</td>\n",
       "      <td>0</td>\n",
       "      <td>68.746760</td>\n",
       "      <td>19.733161</td>\n",
       "      <td>0</td>\n",
       "      <td>1</td>\n",
       "      <td>0</td>\n",
       "      <td>0</td>\n",
       "      <td>0</td>\n",
       "      <td>0</td>\n",
       "      <td>1</td>\n",
       "      <td>0</td>\n",
       "      <td>0</td>\n",
       "    </tr>\n",
       "    <tr>\n",
       "      <th>52</th>\n",
       "      <td>36.000000</td>\n",
       "      <td>0</td>\n",
       "      <td>0</td>\n",
       "      <td>108.110000</td>\n",
       "      <td>30.900000</td>\n",
       "      <td>0</td>\n",
       "      <td>0</td>\n",
       "      <td>0</td>\n",
       "      <td>1</td>\n",
       "      <td>0</td>\n",
       "      <td>0</td>\n",
       "      <td>0</td>\n",
       "      <td>1</td>\n",
       "      <td>0</td>\n",
       "    </tr>\n",
       "  </tbody>\n",
       "</table>\n",
       "</div>"
      ],
      "text/plain": [
       "             age  hypertension  heart_disease  avg_glucose_level        bmi  \\\n",
       "2113   28.000000             0              0          82.770000  24.200000   \n",
       "3177   37.000000             0              0          77.580000  23.800000   \n",
       "4196   42.000000             0              0          68.830000  37.700000   \n",
       "974    38.000000             0              0          69.460000  38.100000   \n",
       "8024   77.247680             0              0          59.292312  24.221057   \n",
       "11310  81.786406             0              0         111.267961  22.428156   \n",
       "11188  61.511666             0              0         213.426295  35.318829   \n",
       "5952   67.000000             0              0          58.050000  31.300000   \n",
       "9683   80.440933             0              0          65.192679  28.406321   \n",
       "2102   64.000000             0              0         226.660000  31.700000   \n",
       "9718   50.313111             0              0          86.377044  38.322108   \n",
       "4005   39.000000             1              0          70.930000  29.700000   \n",
       "5501   82.000000             1              1         104.360000  25.700000   \n",
       "5063   35.000000             1              0          92.950000  34.500000   \n",
       "11263  56.480689             0              0         237.785353  33.375104   \n",
       "9694   77.381199             0              0          68.746760  19.733161   \n",
       "52     36.000000             0              0         108.110000  30.900000   \n",
       "\n",
       "       Male  Yes  Never_worked  Private  Self-employed  children  Urban  \\\n",
       "2113      0    0             0        1              0         0      0   \n",
       "3177      0    1             0        0              1         0      0   \n",
       "4196      0    1             0        1              0         0      1   \n",
       "974       1    1             0        0              0         0      1   \n",
       "8024      0    1             0        0              1         0      0   \n",
       "11310     0    0             0        1              0         0      1   \n",
       "11188     0    1             0        0              0         0      0   \n",
       "5952      1    1             0        1              0         0      0   \n",
       "9683      0    0             0        0              0         0      0   \n",
       "2102      0    1             0        0              1         0      0   \n",
       "9718      0    1             0        1              0         0      0   \n",
       "4005      1    1             0        1              0         0      0   \n",
       "5501      1    1             0        0              1         0      1   \n",
       "5063      0    1             0        1              0         0      1   \n",
       "11263     0    1             0        1              0         0      0   \n",
       "9694      0    1             0        0              0         0      1   \n",
       "52        0    0             0        1              0         0      0   \n",
       "\n",
       "       never smoked  smokes  \n",
       "2113              0       1  \n",
       "3177              1       0  \n",
       "4196              1       0  \n",
       "974               0       0  \n",
       "8024              0       0  \n",
       "11310             0       0  \n",
       "11188             0       0  \n",
       "5952              1       0  \n",
       "9683              0       0  \n",
       "2102              1       0  \n",
       "9718              0       0  \n",
       "4005              0       1  \n",
       "5501              1       0  \n",
       "5063              0       1  \n",
       "11263             0       1  \n",
       "9694              0       0  \n",
       "52                1       0  "
      ]
     },
     "execution_count": 89,
     "metadata": {},
     "output_type": "execute_result"
    }
   ],
   "source": [
    "X_test.head(17)"
   ]
  },
  {
   "cell_type": "markdown",
   "id": "96eff47e",
   "metadata": {},
   "source": [
    "### Feature Scaling"
   ]
  },
  {
   "cell_type": "code",
   "execution_count": 90,
   "id": "b19e943f",
   "metadata": {},
   "outputs": [],
   "source": [
    "from sklearn.preprocessing import StandardScaler\n",
    "sc = StandardScaler()\n",
    "X_train = sc.fit_transform(X_train)\n",
    "X_test = sc.transform(X_test)"
   ]
  },
  {
   "cell_type": "code",
   "execution_count": 91,
   "id": "a33d5e92",
   "metadata": {},
   "outputs": [],
   "source": [
    "from sklearn.linear_model import LogisticRegression\n",
    "from sklearn.metrics import confusion_matrix, accuracy_score, classification_report"
   ]
  },
  {
   "cell_type": "markdown",
   "id": "dc6c8f2c",
   "metadata": {},
   "source": [
    "## Train using LOGISTIC_REGRESSION model on the Training set"
   ]
  },
  {
   "cell_type": "code",
   "execution_count": 92,
   "id": "46c58ef9",
   "metadata": {},
   "outputs": [
    {
     "data": {
      "text/plain": [
       "LogisticRegression(random_state=0)"
      ]
     },
     "execution_count": 92,
     "metadata": {},
     "output_type": "execute_result"
    }
   ],
   "source": [
    "classifier = LogisticRegression(random_state = 0)\n",
    "classifier.fit(X_train, y_train)"
   ]
  },
  {
   "cell_type": "markdown",
   "id": "6ddeec0d",
   "metadata": {},
   "source": [
    "### Making the Confusion Matrix"
   ]
  },
  {
   "cell_type": "code",
   "execution_count": 93,
   "id": "fdd71bd3",
   "metadata": {},
   "outputs": [
    {
     "name": "stdout",
     "output_type": "stream",
     "text": [
      "[[927 214]\n",
      " [177 964]]\n"
     ]
    },
    {
     "data": {
      "text/plain": [
       "0.8286590709903593"
      ]
     },
     "execution_count": 93,
     "metadata": {},
     "output_type": "execute_result"
    }
   ],
   "source": [
    "y_pred = classifier.predict(X_test)\n",
    "cm = confusion_matrix(y_test, y_pred)\n",
    "print(cm)\n",
    "accuracy_score(y_test, y_pred)"
   ]
  },
  {
   "cell_type": "code",
   "execution_count": 94,
   "id": "a820481b",
   "metadata": {},
   "outputs": [
    {
     "name": "stdout",
     "output_type": "stream",
     "text": [
      "              precision    recall  f1-score   support\n",
      "\n",
      "           0       0.84      0.81      0.83      1141\n",
      "           1       0.82      0.84      0.83      1141\n",
      "\n",
      "    accuracy                           0.83      2282\n",
      "   macro avg       0.83      0.83      0.83      2282\n",
      "weighted avg       0.83      0.83      0.83      2282\n",
      "\n"
     ]
    }
   ],
   "source": [
    "print(classification_report(y_test, y_pred))"
   ]
  },
  {
   "cell_type": "code",
   "execution_count": null,
   "id": "25a23ddc",
   "metadata": {},
   "outputs": [],
   "source": []
  },
  {
   "cell_type": "code",
   "execution_count": null,
   "id": "55d14695",
   "metadata": {},
   "outputs": [],
   "source": []
  },
  {
   "cell_type": "markdown",
   "id": "5ee3d235",
   "metadata": {},
   "source": [
    "## Train using K-NEAREST_NEIGHBORS model on the Training set"
   ]
  },
  {
   "cell_type": "code",
   "execution_count": 95,
   "id": "15b66392",
   "metadata": {},
   "outputs": [],
   "source": [
    "from sklearn.neighbors import KNeighborsClassifier"
   ]
  },
  {
   "cell_type": "code",
   "execution_count": 96,
   "id": "d9d2f7c1",
   "metadata": {},
   "outputs": [
    {
     "data": {
      "text/plain": [
       "KNeighborsClassifier()"
      ]
     },
     "execution_count": 96,
     "metadata": {},
     "output_type": "execute_result"
    }
   ],
   "source": [
    "knn_classifier = KNeighborsClassifier(n_neighbors = 5, metric = 'minkowski', p = 2)\n",
    "knn_classifier.fit(X_train, y_train)"
   ]
  },
  {
   "cell_type": "markdown",
   "id": "936eb313",
   "metadata": {},
   "source": [
    "### Making the Confusion Matrix"
   ]
  },
  {
   "cell_type": "code",
   "execution_count": 97,
   "id": "a76d98e2",
   "metadata": {},
   "outputs": [
    {
     "name": "stdout",
     "output_type": "stream",
     "text": [
      "[[ 913  228]\n",
      " [  92 1049]]\n"
     ]
    },
    {
     "data": {
      "text/plain": [
       "0.85977212971078"
      ]
     },
     "execution_count": 97,
     "metadata": {},
     "output_type": "execute_result"
    }
   ],
   "source": [
    "knn_y_pred = knn_classifier.predict(X_test)\n",
    "knn_cm = confusion_matrix(y_test, knn_y_pred)\n",
    "print(knn_cm)\n",
    "accuracy_score(y_test, knn_y_pred)"
   ]
  },
  {
   "cell_type": "code",
   "execution_count": 98,
   "id": "7f68f200",
   "metadata": {},
   "outputs": [
    {
     "name": "stdout",
     "output_type": "stream",
     "text": [
      "              precision    recall  f1-score   support\n",
      "\n",
      "           0       0.91      0.80      0.85      1141\n",
      "           1       0.82      0.92      0.87      1141\n",
      "\n",
      "    accuracy                           0.86      2282\n",
      "   macro avg       0.86      0.86      0.86      2282\n",
      "weighted avg       0.86      0.86      0.86      2282\n",
      "\n"
     ]
    }
   ],
   "source": [
    "print(classification_report(y_test, knn_y_pred))"
   ]
  },
  {
   "cell_type": "code",
   "execution_count": null,
   "id": "6f7e380a",
   "metadata": {},
   "outputs": [],
   "source": []
  },
  {
   "cell_type": "code",
   "execution_count": null,
   "id": "0a7cf063",
   "metadata": {},
   "outputs": [],
   "source": []
  },
  {
   "cell_type": "markdown",
   "id": "9c24382b",
   "metadata": {},
   "source": [
    "## Train using SUPPORT_VECTOR_MACHINE model on the Training set"
   ]
  },
  {
   "cell_type": "code",
   "execution_count": 99,
   "id": "1773fe65",
   "metadata": {},
   "outputs": [
    {
     "data": {
      "text/plain": [
       "SVC(kernel='linear', random_state=42)"
      ]
     },
     "execution_count": 99,
     "metadata": {},
     "output_type": "execute_result"
    }
   ],
   "source": [
    "from sklearn.svm import SVC\n",
    "svc_classifier = SVC(kernel = 'linear', random_state = 42)\n",
    "svc_classifier.fit(X_train, y_train)"
   ]
  },
  {
   "cell_type": "markdown",
   "id": "f67586f3",
   "metadata": {},
   "source": [
    "### Making the CONFUSION MATRIX"
   ]
  },
  {
   "cell_type": "code",
   "execution_count": 100,
   "id": "7c087b1d",
   "metadata": {},
   "outputs": [
    {
     "name": "stdout",
     "output_type": "stream",
     "text": [
      "[[925 216]\n",
      " [176 965]]\n"
     ]
    },
    {
     "data": {
      "text/plain": [
       "0.8282208588957055"
      ]
     },
     "execution_count": 100,
     "metadata": {},
     "output_type": "execute_result"
    }
   ],
   "source": [
    "svc_y_pred = svc_classifier.predict(X_test)\n",
    "svc_cm = confusion_matrix(y_test, svc_y_pred)\n",
    "print(svc_cm)\n",
    "accuracy_score(y_test, svc_y_pred)"
   ]
  },
  {
   "cell_type": "code",
   "execution_count": 101,
   "id": "4c9555e9",
   "metadata": {},
   "outputs": [
    {
     "name": "stdout",
     "output_type": "stream",
     "text": [
      "              precision    recall  f1-score   support\n",
      "\n",
      "           0       0.84      0.81      0.83      1141\n",
      "           1       0.82      0.85      0.83      1141\n",
      "\n",
      "    accuracy                           0.83      2282\n",
      "   macro avg       0.83      0.83      0.83      2282\n",
      "weighted avg       0.83      0.83      0.83      2282\n",
      "\n"
     ]
    }
   ],
   "source": [
    "print(classification_report(y_test, svc_y_pred))"
   ]
  },
  {
   "cell_type": "code",
   "execution_count": null,
   "id": "02ff929e",
   "metadata": {},
   "outputs": [],
   "source": []
  },
  {
   "cell_type": "code",
   "execution_count": null,
   "id": "d9f960e9",
   "metadata": {},
   "outputs": [],
   "source": []
  },
  {
   "cell_type": "markdown",
   "id": "546ae161",
   "metadata": {},
   "source": [
    "## Train using KERNEL_SVM model on the Training set"
   ]
  },
  {
   "cell_type": "code",
   "execution_count": 102,
   "id": "4512649c",
   "metadata": {},
   "outputs": [
    {
     "data": {
      "text/plain": [
       "SVC(random_state=40)"
      ]
     },
     "execution_count": 102,
     "metadata": {},
     "output_type": "execute_result"
    }
   ],
   "source": [
    "from sklearn.svm import SVC\n",
    "kernel_classifier = SVC(kernel ='rbf', random_state = 40)\n",
    "kernel_classifier.fit(X_train, y_train)"
   ]
  },
  {
   "cell_type": "markdown",
   "id": "fe09dda4",
   "metadata": {},
   "source": [
    "### Making the CONFUSION MATRIX"
   ]
  },
  {
   "cell_type": "code",
   "execution_count": 103,
   "id": "64709418",
   "metadata": {},
   "outputs": [
    {
     "name": "stdout",
     "output_type": "stream",
     "text": [
      "[[932 209]\n",
      " [163 978]]\n"
     ]
    },
    {
     "data": {
      "text/plain": [
       "0.8369851007887817"
      ]
     },
     "execution_count": 103,
     "metadata": {},
     "output_type": "execute_result"
    }
   ],
   "source": [
    "kernel_y_pred = kernel_classifier.predict(X_test)\n",
    "kernel_cm = confusion_matrix(y_test, kernel_y_pred)\n",
    "print(kernel_cm)\n",
    "accuracy_score(y_test, kernel_y_pred)"
   ]
  },
  {
   "cell_type": "code",
   "execution_count": 104,
   "id": "63176de1",
   "metadata": {},
   "outputs": [
    {
     "name": "stdout",
     "output_type": "stream",
     "text": [
      "              precision    recall  f1-score   support\n",
      "\n",
      "           0       0.85      0.82      0.83      1141\n",
      "           1       0.82      0.86      0.84      1141\n",
      "\n",
      "    accuracy                           0.84      2282\n",
      "   macro avg       0.84      0.84      0.84      2282\n",
      "weighted avg       0.84      0.84      0.84      2282\n",
      "\n"
     ]
    }
   ],
   "source": [
    "print(classification_report(y_test, kernel_y_pred))"
   ]
  },
  {
   "cell_type": "code",
   "execution_count": null,
   "id": "20529d63",
   "metadata": {},
   "outputs": [],
   "source": []
  },
  {
   "cell_type": "code",
   "execution_count": null,
   "id": "0aad512f",
   "metadata": {},
   "outputs": [],
   "source": []
  },
  {
   "cell_type": "markdown",
   "id": "521de9bc",
   "metadata": {},
   "source": [
    "## Train using GAUSSIAN_NB model on the Training set"
   ]
  },
  {
   "cell_type": "code",
   "execution_count": 105,
   "id": "fe787e49",
   "metadata": {},
   "outputs": [
    {
     "data": {
      "text/plain": [
       "GaussianNB()"
      ]
     },
     "execution_count": 105,
     "metadata": {},
     "output_type": "execute_result"
    }
   ],
   "source": [
    "from sklearn.naive_bayes import GaussianNB\n",
    "gaussian_classifier = GaussianNB()\n",
    "gaussian_classifier.fit(X_train, y_train)"
   ]
  },
  {
   "cell_type": "markdown",
   "id": "0f2e8ac7",
   "metadata": {},
   "source": [
    "### Making the CONFUSION MATRIX"
   ]
  },
  {
   "cell_type": "code",
   "execution_count": 106,
   "id": "f837efc4",
   "metadata": {},
   "outputs": [
    {
     "name": "stdout",
     "output_type": "stream",
     "text": [
      "[[  30 1111]\n",
      " [   0 1141]]\n"
     ]
    },
    {
     "data": {
      "text/plain": [
       "0.5131463628396143"
      ]
     },
     "execution_count": 106,
     "metadata": {},
     "output_type": "execute_result"
    }
   ],
   "source": [
    "gaussian_y_pred = gaussian_classifier.predict(X_test)\n",
    "gaussian_cm = confusion_matrix(y_test, gaussian_y_pred)\n",
    "print(gaussian_cm)\n",
    "accuracy_score(y_test, gaussian_y_pred)"
   ]
  },
  {
   "cell_type": "code",
   "execution_count": 107,
   "id": "dc676ffa",
   "metadata": {},
   "outputs": [
    {
     "name": "stdout",
     "output_type": "stream",
     "text": [
      "              precision    recall  f1-score   support\n",
      "\n",
      "           0       1.00      0.03      0.05      1141\n",
      "           1       0.51      1.00      0.67      1141\n",
      "\n",
      "    accuracy                           0.51      2282\n",
      "   macro avg       0.75      0.51      0.36      2282\n",
      "weighted avg       0.75      0.51      0.36      2282\n",
      "\n"
     ]
    }
   ],
   "source": [
    "print(classification_report(y_test, gaussian_y_pred))"
   ]
  },
  {
   "cell_type": "code",
   "execution_count": null,
   "id": "1ff34437",
   "metadata": {},
   "outputs": [],
   "source": []
  },
  {
   "cell_type": "code",
   "execution_count": null,
   "id": "f94d4fcf",
   "metadata": {},
   "outputs": [],
   "source": []
  },
  {
   "cell_type": "markdown",
   "id": "fca3f431",
   "metadata": {},
   "source": [
    "## Train using DECISION TREE model on the Training set"
   ]
  },
  {
   "cell_type": "code",
   "execution_count": 108,
   "id": "07ac26de",
   "metadata": {},
   "outputs": [
    {
     "data": {
      "text/plain": [
       "DecisionTreeClassifier(criterion='entropy', random_state=2)"
      ]
     },
     "execution_count": 108,
     "metadata": {},
     "output_type": "execute_result"
    }
   ],
   "source": [
    "from sklearn.tree import DecisionTreeClassifier\n",
    "decision_classifier = DecisionTreeClassifier(criterion = 'entropy', random_state = 2)\n",
    "decision_classifier.fit(X_train, y_train)"
   ]
  },
  {
   "cell_type": "markdown",
   "id": "4ee4541a",
   "metadata": {},
   "source": [
    "### Making the CONFUSION MATRIX"
   ]
  },
  {
   "cell_type": "code",
   "execution_count": 109,
   "id": "6915e1d9",
   "metadata": {},
   "outputs": [
    {
     "name": "stdout",
     "output_type": "stream",
     "text": [
      "[[ 978  163]\n",
      " [ 106 1035]]\n"
     ]
    },
    {
     "data": {
      "text/plain": [
       "0.8821209465381245"
      ]
     },
     "execution_count": 109,
     "metadata": {},
     "output_type": "execute_result"
    }
   ],
   "source": [
    "decision_y_pred = decision_classifier.predict(X_test)\n",
    "decision_cm = confusion_matrix(y_test, decision_y_pred)\n",
    "print(decision_cm)\n",
    "accuracy_score(y_test, decision_y_pred)"
   ]
  },
  {
   "cell_type": "code",
   "execution_count": 110,
   "id": "3260b034",
   "metadata": {},
   "outputs": [
    {
     "name": "stdout",
     "output_type": "stream",
     "text": [
      "              precision    recall  f1-score   support\n",
      "\n",
      "           0       0.90      0.86      0.88      1141\n",
      "           1       0.86      0.91      0.88      1141\n",
      "\n",
      "    accuracy                           0.88      2282\n",
      "   macro avg       0.88      0.88      0.88      2282\n",
      "weighted avg       0.88      0.88      0.88      2282\n",
      "\n"
     ]
    }
   ],
   "source": [
    "print(classification_report(y_test, decision_y_pred))"
   ]
  },
  {
   "cell_type": "code",
   "execution_count": null,
   "id": "edea578a",
   "metadata": {},
   "outputs": [],
   "source": []
  },
  {
   "cell_type": "code",
   "execution_count": null,
   "id": "1a633314",
   "metadata": {},
   "outputs": [],
   "source": []
  },
  {
   "cell_type": "markdown",
   "id": "0eb9ec4f",
   "metadata": {},
   "source": [
    "## Train using RANDOM FOREST model on the Training set"
   ]
  },
  {
   "cell_type": "code",
   "execution_count": 111,
   "id": "cbba3caa",
   "metadata": {},
   "outputs": [
    {
     "data": {
      "text/plain": [
       "RandomForestClassifier(criterion='entropy', n_estimators=10, random_state=42)"
      ]
     },
     "execution_count": 111,
     "metadata": {},
     "output_type": "execute_result"
    }
   ],
   "source": [
    "from sklearn.ensemble import RandomForestClassifier\n",
    "random_classifier = RandomForestClassifier(n_estimators=10, criterion = 'entropy', random_state = 42)\n",
    "random_classifier.fit(X_train, y_train)"
   ]
  },
  {
   "cell_type": "markdown",
   "id": "ec0d2a1c",
   "metadata": {},
   "source": [
    "### Making the CONFUSION MATRIX"
   ]
  },
  {
   "cell_type": "code",
   "execution_count": 112,
   "id": "81acb7eb",
   "metadata": {},
   "outputs": [
    {
     "name": "stdout",
     "output_type": "stream",
     "text": [
      "[[1004  137]\n",
      " [ 106 1035]]\n"
     ]
    },
    {
     "data": {
      "text/plain": [
       "0.8935144609991236"
      ]
     },
     "execution_count": 112,
     "metadata": {},
     "output_type": "execute_result"
    }
   ],
   "source": [
    "random_y_pred = random_classifier.predict(X_test)\n",
    "random_cm = confusion_matrix(y_test, random_y_pred)\n",
    "print(random_cm)\n",
    "accuracy_score(y_test, random_y_pred)"
   ]
  },
  {
   "cell_type": "code",
   "execution_count": 113,
   "id": "4c9cfc2b",
   "metadata": {},
   "outputs": [
    {
     "name": "stdout",
     "output_type": "stream",
     "text": [
      "              precision    recall  f1-score   support\n",
      "\n",
      "           0       0.90      0.88      0.89      1141\n",
      "           1       0.88      0.91      0.89      1141\n",
      "\n",
      "    accuracy                           0.89      2282\n",
      "   macro avg       0.89      0.89      0.89      2282\n",
      "weighted avg       0.89      0.89      0.89      2282\n",
      "\n"
     ]
    }
   ],
   "source": [
    "print(classification_report(y_test, random_y_pred))"
   ]
  },
  {
   "cell_type": "code",
   "execution_count": null,
   "id": "ae94210b",
   "metadata": {},
   "outputs": [],
   "source": []
  },
  {
   "cell_type": "code",
   "execution_count": null,
   "id": "9b3929fb",
   "metadata": {},
   "outputs": [],
   "source": []
  }
 ],
 "metadata": {
  "kernelspec": {
   "display_name": "Python 3 (ipykernel)",
   "language": "python",
   "name": "python3"
  },
  "language_info": {
   "codemirror_mode": {
    "name": "ipython",
    "version": 3
   },
   "file_extension": ".py",
   "mimetype": "text/x-python",
   "name": "python",
   "nbconvert_exporter": "python",
   "pygments_lexer": "ipython3",
   "version": "3.9.12"
  }
 },
 "nbformat": 4,
 "nbformat_minor": 5
}
